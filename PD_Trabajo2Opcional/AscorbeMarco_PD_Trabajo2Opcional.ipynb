{
  "cells": [
    {
      "cell_type": "markdown",
      "metadata": {
        "id": "view-in-github",
        "colab_type": "text"
      },
      "source": [
        "<a href=\"https://colab.research.google.com/github/paascorb/PreparacionDeDatos_Trabajos/blob/main/PD_Trabajo2Opcional/AscorbeMarco_PD_Trabajo2Opcional.ipynb\" target=\"_parent\"><img src=\"https://colab.research.google.com/assets/colab-badge.svg\" alt=\"Open In Colab\"/></a>"
      ]
    },
    {
      "cell_type": "markdown",
      "id": "d21f4faf-17db-4fff-b997-bbe979bd0691",
      "metadata": {
        "tags": [],
        "id": "d21f4faf-17db-4fff-b997-bbe979bd0691"
      },
      "source": [
        "# Trabajo 2 Opcional"
      ]
    },
    {
      "cell_type": "markdown",
      "id": "62c27cde-bbac-4c5b-b9d1-19aa70b0957e",
      "metadata": {
        "id": "62c27cde-bbac-4c5b-b9d1-19aa70b0957e"
      },
      "source": [
        " - Máster en Ciencia de Datos y Aprendizaje Automático.\n",
        " - Asignatura: Preparación de Datos.\n",
        " - Trabajo realizado por: Pablo Ascorbe e Ignacio Marco.\n",
        " - Fecha: --/01/2023."
      ]
    },
    {
      "cell_type": "markdown",
      "id": "1deb83e0-2a88-4a13-8a33-8b4bdcaae5dd",
      "metadata": {
        "id": "1deb83e0-2a88-4a13-8a33-8b4bdcaae5dd"
      },
      "source": [
        "## 1. Lectura y análisis del dataset"
      ]
    },
    {
      "cell_type": "markdown",
      "source": [
        "En este primer apartado se importarán los datos y se hará un estudio inicial de éstos."
      ],
      "metadata": {
        "id": "f3cqnL2Sqnaj"
      },
      "id": "f3cqnL2Sqnaj"
    },
    {
      "cell_type": "markdown",
      "id": "b2db2641-5f32-491c-8aa0-5a171cdeaba6",
      "metadata": {
        "id": "b2db2641-5f32-491c-8aa0-5a171cdeaba6"
      },
      "source": [
        "### 1.1. Importación de datos"
      ]
    },
    {
      "cell_type": "markdown",
      "id": "0fc84e86-270f-4a24-ba7d-1d5fba56851d",
      "metadata": {
        "id": "0fc84e86-270f-4a24-ba7d-1d5fba56851d"
      },
      "source": [
        "### 1.2. Estudio inicial del dataset"
      ]
    },
    {
      "cell_type": "markdown",
      "id": "36160f42-d6f4-4f50-995d-286f14751d88",
      "metadata": {
        "id": "36160f42-d6f4-4f50-995d-286f14751d88"
      },
      "source": [
        "## 2. Preprocesado"
      ]
    },
    {
      "cell_type": "markdown",
      "id": "26ec9bf3-e453-4127-8435-13c4754f491c",
      "metadata": {
        "id": "26ec9bf3-e453-4127-8435-13c4754f491c"
      },
      "source": [
        "### 2.1. Limpieza básica de datos"
      ]
    },
    {
      "cell_type": "markdown",
      "id": "d596be0c-5694-4e1d-8fd7-672e3cdd8563",
      "metadata": {
        "id": "d596be0c-5694-4e1d-8fd7-672e3cdd8563"
      },
      "source": [
        "#### 2.1.1. Valores únicos"
      ]
    },
    {
      "cell_type": "markdown",
      "id": "5d1d85f9-03eb-4833-8e1c-847cbb7bac62",
      "metadata": {
        "id": "5d1d85f9-03eb-4833-8e1c-847cbb7bac62"
      },
      "source": [
        "#### 2.1.2. Baja variedad de valores"
      ]
    },
    {
      "cell_type": "markdown",
      "id": "4ac252cc-e82f-40d7-9999-243a39cb1b3e",
      "metadata": {
        "id": "4ac252cc-e82f-40d7-9999-243a39cb1b3e"
      },
      "source": [
        "#### 2.1.2. Valores de baja varianza"
      ]
    },
    {
      "cell_type": "markdown",
      "id": "eaab4ed5-0eb9-4f9d-aada-f248ff0b116e",
      "metadata": {
        "id": "eaab4ed5-0eb9-4f9d-aada-f248ff0b116e"
      },
      "source": [
        "### 2.2. Valores duplicados"
      ]
    },
    {
      "cell_type": "markdown",
      "id": "5ebf02c9-2183-45f5-8243-2248fe3d0e75",
      "metadata": {
        "id": "5ebf02c9-2183-45f5-8243-2248fe3d0e75"
      },
      "source": [
        "#### 2.2.1. Identificación de filas con valores duplicados"
      ]
    },
    {
      "cell_type": "markdown",
      "id": "962fa07e-dac9-495a-9017-6e60422e8877",
      "metadata": {
        "id": "962fa07e-dac9-495a-9017-6e60422e8877"
      },
      "source": [
        "#### 2.2.2. Borrado de filas con valores duplicados"
      ]
    },
    {
      "cell_type": "markdown",
      "id": "a6e364a6-4555-4f3e-8318-f50969d6ae9a",
      "metadata": {
        "id": "a6e364a6-4555-4f3e-8318-f50969d6ae9a"
      },
      "source": [
        "### 2.3. Valores nulos"
      ]
    },
    {
      "cell_type": "markdown",
      "id": "b5ad9a2e-b693-4a7b-8f5b-316e35668ec6",
      "metadata": {
        "id": "b5ad9a2e-b693-4a7b-8f5b-316e35668ec6"
      },
      "source": [
        "#### 2.3.1. Identificación de valores nulos"
      ]
    },
    {
      "cell_type": "markdown",
      "id": "3c3ba64a-7007-4e92-91ce-efd30a015639",
      "metadata": {
        "id": "3c3ba64a-7007-4e92-91ce-efd30a015639"
      },
      "source": [
        "#### 2.3.2. Borrado de filas con valores nulos"
      ]
    },
    {
      "cell_type": "markdown",
      "id": "d19628c3-c8f5-437b-b1aa-9cdc44b40b27",
      "metadata": {
        "id": "d19628c3-c8f5-437b-b1aa-9cdc44b40b27"
      },
      "source": [
        "#### 2.3.3. Imputación de datos"
      ]
    },
    {
      "cell_type": "markdown",
      "id": "fb3a83cc-32a8-45cf-8eef-2d659d578217",
      "metadata": {
        "id": "fb3a83cc-32a8-45cf-8eef-2d659d578217"
      },
      "source": [
        "##### 2.3.3.2. Imputación estadística"
      ]
    },
    {
      "cell_type": "markdown",
      "id": "da0dbf87-6144-4e46-99a6-db41adbaa647",
      "metadata": {
        "id": "da0dbf87-6144-4e46-99a6-db41adbaa647"
      },
      "source": [
        "##### 2.3.3.3. Imputación iterativa"
      ]
    },
    {
      "cell_type": "markdown",
      "id": "f1585a77-c25a-422b-9026-d19416a671de",
      "metadata": {
        "id": "f1585a77-c25a-422b-9026-d19416a671de"
      },
      "source": [
        "##### 2.3.3.4. Imputación por KNN"
      ]
    },
    {
      "cell_type": "markdown",
      "id": "31cda66b-10df-4452-abd0-b2d003cfc7a7",
      "metadata": {
        "id": "31cda66b-10df-4452-abd0-b2d003cfc7a7"
      },
      "source": [
        "##### 2.3.3.5. Resultados"
      ]
    },
    {
      "cell_type": "markdown",
      "id": "9434643c-c416-42c8-897c-3c3dbb5b993a",
      "metadata": {
        "id": "9434643c-c416-42c8-897c-3c3dbb5b993a"
      },
      "source": [
        "### 2.4. Outliers"
      ]
    },
    {
      "cell_type": "markdown",
      "id": "16bf579f-1ac1-4b1a-a223-b84e93338441",
      "metadata": {
        "id": "16bf579f-1ac1-4b1a-a223-b84e93338441"
      },
      "source": [
        "#### 2.4.1. Borrado de outliers mediante el Standard Deviation Method"
      ]
    },
    {
      "cell_type": "markdown",
      "id": "c961f252-583f-49cd-bd5d-543b61454547",
      "metadata": {
        "id": "c961f252-583f-49cd-bd5d-543b61454547"
      },
      "source": [
        "#### 2.4.2. Identificación de outliers mediante el Interquartile Range Method (IQR)"
      ]
    },
    {
      "cell_type": "markdown",
      "id": "2e1de8ce-95a7-4729-b455-e8181219c2cf",
      "metadata": {
        "id": "2e1de8ce-95a7-4729-b455-e8181219c2cf"
      },
      "source": [
        "#### 2.4.3. Borrado automático de outliers mediante el Local Outlier Factor (LOF)"
      ]
    },
    {
      "cell_type": "markdown",
      "id": "359dbdf7-ec32-4b27-9460-43cc9e0d17e2",
      "metadata": {
        "id": "359dbdf7-ec32-4b27-9460-43cc9e0d17e2"
      },
      "source": [
        "## 3. Conclusiones"
      ]
    },
    {
      "cell_type": "code",
      "execution_count": null,
      "id": "03d91e33-6730-400b-8782-4e13eb4db2a3",
      "metadata": {
        "id": "03d91e33-6730-400b-8782-4e13eb4db2a3"
      },
      "outputs": [],
      "source": []
    }
  ],
  "metadata": {
    "kernelspec": {
      "display_name": "Python 3 (ipykernel)",
      "language": "python",
      "name": "python3"
    },
    "language_info": {
      "codemirror_mode": {
        "name": "ipython",
        "version": 3
      },
      "file_extension": ".py",
      "mimetype": "text/x-python",
      "name": "python",
      "nbconvert_exporter": "python",
      "pygments_lexer": "ipython3",
      "version": "3.9.13"
    },
    "colab": {
      "provenance": [],
      "include_colab_link": true
    }
  },
  "nbformat": 4,
  "nbformat_minor": 5
}